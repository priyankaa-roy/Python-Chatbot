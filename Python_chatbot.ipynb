{
  "cells": [
    {
      "cell_type": "markdown",
      "metadata": {
        "id": "BBZeaJXV5bQg"
      },
      "source": [
        "####  Importing Random Module"
      ]
    },
    {
      "cell_type": "code",
      "execution_count": null,
      "metadata": {
        "colab": {
          "background_save": true
        },
        "id": "Z24Id9tz48w8"
      },
      "outputs": [],
      "source": [
        "import random"
      ]
    },
    {
      "cell_type": "markdown",
      "metadata": {
        "id": "2J5QBB3l5lbv"
      },
      "source": [
        "#### Defining Responses"
      ]
    },
    {
      "cell_type": "code",
      "execution_count": null,
      "metadata": {
        "id": "6Ufmbzcr4_Tb"
      },
      "outputs": [],
      "source": [
        "responses = {\n",
        "    \"greeting\": [\"Hello! How can I help you today?\", \"Hi there! What can I do for you?\", \"Greetings! How may I assist you?\"],\n",
        "    \"help\": [\"I'm here to help! What do you need assistance with?\", \"Sure, let me know how I can assist you.\", \"Feel free to ask me any question.\"],\n",
        "    \"default\": [\"I'm sorry, I didn't understand that. Can you please rephrase?\", \"Could you clarify your query? I'm here to help!\"],\n",
        "    \"thanks\": [\"You're welcome! Let me know if you need anything else.\", \"Glad I could help!\", \"Anytime!\"],\n",
        "}"
      ]
    },
    {
      "cell_type": "markdown",
      "metadata": {
        "id": "iPYGggl65qt5"
      },
      "source": [
        "- A dictionary named `responses` is created to store different categories of responses that the chatbot will use based on the user's input. There are four categories:\n",
        "- `greeting`: Responses when the user greets the bot (e.g., \"Hello\", \"Hi\").\n",
        "- `help`: Responses when the user asks for help.\n",
        "- `default`: Responses for unrecognized input, used if the user's query doesn't match any of the other categories.\n",
        "- `thanks`: Responses when the user expresses gratitude (e.g., \"Thank you\").\n",
        "\n",
        "- The `random.choice()` function will later be used to select a random response from each list when a specific category is triggered."
      ]
    },
    {
      "cell_type": "markdown",
      "metadata": {
        "id": "26xVnoje6UDr"
      },
      "source": [
        "#### Defining the `chatbot_response` Function"
      ]
    },
    {
      "cell_type": "code",
      "execution_count": null,
      "metadata": {
        "id": "W3BcDqXt4_Wq"
      },
      "outputs": [],
      "source": [
        "def chatbot_response(user_input):\n",
        "    user_input = user_input.lower()\n",
        "    if \"hello\" in user_input or \"hi\" in user_input or \"hey\" in user_input:\n",
        "        return random.choice(responses[\"greeting\"])\n",
        "    elif \"help\" in user_input or \"assist\" in user_input:\n",
        "        return random.choice(responses[\"help\"])\n",
        "    elif \"thank\" in user_input:\n",
        "        return random.choice(responses[\"thanks\"])\n",
        "    else:\n",
        "        return random.choice(responses[\"default\"])"
      ]
    },
    {
      "cell_type": "markdown",
      "metadata": {
        "id": "atdJ_9oj6fxW"
      },
      "source": [
        "- This function processes the user’s input and returns an appropriate response based on the content of the input.\n",
        "    - The input is converted to lowercase (user_input = user_input.lower()) to make the matching case-insensitive, ensuring that the bot can understand the input regardless of whether the user uses uppercase or lowercase letters.\n",
        "    - The function checks for certain keywords in the input:\n",
        "- `Greeting`: If the input contains \"hello\", \"hi\", or \"hey\", it returns a random greeting response.\n",
        "- `Help`: If the input contains \"help\" or \"assist\", the chatbot will offer assistance.\n",
        "- `Thanks`: If the input contains \"thank\", the chatbot will respond with a gratitude reply.\n",
        "- `Default`: If none of the above conditions are met, it returns a default response asking the user to clarify or rephrase."
      ]
    },
    {
      "cell_type": "markdown",
      "metadata": {
        "id": "KDdpM2sj66r5"
      },
      "source": [
        "####  Defining the `chat` Function"
      ]
    },
    {
      "cell_type": "code",
      "execution_count": null,
      "metadata": {
        "id": "xfZvgPyj7Db3"
      },
      "outputs": [],
      "source": [
        "def chat():\n",
        "    print(\"Chatbot: Hello! I am your support assistant. Type 'exit' to end the chat.\")\n",
        "    while True:\n",
        "        user_input = input(\"You: \")\n",
        "        if user_input.lower() == 'exit':\n",
        "            print(\"Chatbot: Goodbye! Have a great day!\")\n",
        "            break\n",
        "        response = chatbot_response(user_input)\n",
        "        print(f\"Chatbot: {response}\")"
      ]
    },
    {
      "cell_type": "markdown",
      "metadata": {
        "id": "PsLFdrmg7GKq"
      },
      "source": [
        "- This function handles the interaction loop with the user.\n",
        " - The chatbot initially greets the user with a welcome message and explains that typing \"exit\" will end the conversation.\n",
        " - The `while` True loop keeps the conversation going until the user types `'exit'`.\n",
        " - The user's input is taken using `input()`.\n",
        " - If the user types `\"exit\"`, the chatbot says goodbye and the loop is terminated using `break`.\n",
        " - If the input is anything other than \"exit\", it passes the input to the `chatbot_response()` function to generate a response and then prints the chatbot's response."
      ]
    },
    {
      "cell_type": "markdown",
      "metadata": {
        "id": "kUChuUxF7qJ0"
      },
      "source": [
        "#### Running the Chatbot"
      ]
    },
    {
      "cell_type": "code",
      "execution_count": null,
      "metadata": {
        "colab": {
          "base_uri": "https://localhost:8080/"
        },
        "id": "szGIea5y7DfC",
        "outputId": "eb0e1e0a-bf63-4618-a402-d006bea9078f"
      },
      "outputs": [
        {
          "name": "stdout",
          "output_type": "stream",
          "text": [
            "Chatbot: Hello! I am your support assistant. Type 'exit' to end the chat.\n",
            "You: \n",
            "Chatbot: I'm sorry, I didn't understand that. Can you please rephrase?\n",
            "You: exit\n",
            "Chatbot: Goodbye! Have a great day!\n"
          ]
        }
      ],
      "source": [
        "if __name__ == \"__main__\":\n",
        "    chat()"
      ]
    },
    {
      "cell_type": "code",
      "execution_count": null,
      "metadata": {
        "id": "anX-kn6A7Dh5"
      },
      "outputs": [],
      "source": []
    },
    {
      "cell_type": "markdown",
      "metadata": {
        "id": "iVfyA6Ln8S5q"
      },
      "source": [
        "### Importing the Necessary Libraries:"
      ]
    },
    {
      "cell_type": "code",
      "execution_count": null,
      "metadata": {
        "id": "1lx2YDHt7Dki"
      },
      "outputs": [],
      "source": [
        "from transformers import pipeline"
      ]
    },
    {
      "cell_type": "markdown",
      "metadata": {
        "id": "m8CfLi028nQO"
      },
      "source": [
        "#### Loading the Pre-trained Model for Intent Recognition and Defining Possible Intents"
      ]
    },
    {
      "cell_type": "code",
      "execution_count": null,
      "metadata": {
        "id": "kR5zDDjD7DnQ"
      },
      "outputs": [],
      "source": [
        "intent_recognizer = pipeline(\"zero-shot-classification\", model=\"facebook/bart-large-mnli\")\n",
        "intents = [\"greeting\", \"help\", \"thanks\", \"complaint\", \"feedback\"]"
      ]
    },
    {
      "cell_type": "markdown",
      "metadata": {
        "id": "DATBINA681DD"
      },
      "source": [
        "#### Defining the Function for Intent Detection"
      ]
    },
    {
      "cell_type": "code",
      "execution_count": null,
      "metadata": {
        "id": "tPcCswm87DqB"
      },
      "outputs": [],
      "source": [
        "def detect_intent(user_input):\n",
        "    result = intent_recognizer(user_input, intents)\n",
        "    return result[\"labels\"][0]  # Return the most likely intent"
      ]
    },
    {
      "cell_type": "markdown",
      "metadata": {
        "id": "tb3SVh2V9CMG"
      },
      "source": [
        "#### Enhanced Chatbot Response Function:"
      ]
    },
    {
      "cell_type": "code",
      "execution_count": null,
      "metadata": {
        "id": "cZzW_SUR7DvJ"
      },
      "outputs": [],
      "source": [
        "def chatbot_response(user_input):\n",
        "    intent = detect_intent(user_input)\n",
        "    if intent == \"greeting\":\n",
        "        return random.choice(responses[\"greeting\"])\n",
        "    elif intent == \"help\":\n",
        "        return random.choice(responses[\"help\"])\n",
        "    elif intent == \"thanks\":\n",
        "        return random.choice(responses[\"thanks\"])\n",
        "    elif intent == \"complaint\":\n",
        "        return \"I'm sorry to hear that. Can you please provide more details about the issue?\"\n",
        "    elif intent == \"feedback\":\n",
        "        return \"Thank you for your feedback! It helps us improve.\"\n",
        "    else:\n",
        "        return random.choice(responses[\"default\"])"
      ]
    },
    {
      "cell_type": "markdown",
      "metadata": {
        "id": "KGn-TQuX9Mhe"
      },
      "source": [
        "#### Running the Chatbot"
      ]
    },
    {
      "cell_type": "code",
      "execution_count": null,
      "metadata": {
        "colab": {
          "base_uri": "https://localhost:8080/"
        },
        "id": "8abZUo5NsnrS",
        "outputId": "df01424f-733d-4b13-ffe5-4be27e08f563"
      },
      "outputs": [
        {
          "name": "stdout",
          "output_type": "stream",
          "text": [
            "Chatbot: Hello! I am your support assistant. Type 'exit' to end the chat.\n",
            "You: exit\n",
            "Chatbot: Goodbye! Have a great day!\n"
          ]
        }
      ],
      "source": [
        "# Run chatbot\n",
        "if __name__ == \"__main__\":\n",
        "    chat()"
      ]
    },
    {
      "cell_type": "code",
      "execution_count": null,
      "metadata": {
        "id": "2MuuV_Io7DyB"
      },
      "outputs": [],
      "source": []
    },
    {
      "cell_type": "code",
      "execution_count": null,
      "metadata": {
        "id": "CDPRl83b7D1i"
      },
      "outputs": [],
      "source": []
    },
    {
      "cell_type": "markdown",
      "metadata": {
        "id": "AwUAhLxh_qt1"
      },
      "source": [
        "#### Importing the Necessary Libraries:"
      ]
    },
    {
      "cell_type": "code",
      "execution_count": null,
      "metadata": {
        "id": "dN0DNa0F7D6B"
      },
      "outputs": [],
      "source": [
        "import random\n",
        "import requests\n",
        "from textblob import TextBlob\n",
        "from transformers import pipeline\n",
        "from googletrans import Translator\n",
        "import logging\n",
        "from datetime import datetime, timedelta"
      ]
    },
    {
      "cell_type": "markdown",
      "metadata": {
        "id": "G5Z0TPNMAp76"
      },
      "source": [
        "#### Logging Setup"
      ]
    },
    {
      "cell_type": "code",
      "execution_count": null,
      "metadata": {
        "id": "wtjp4RNTAbbv"
      },
      "outputs": [],
      "source": [
        "logging.basicConfig(filename=\"chatbot.log\", level=logging.INFO)"
      ]
    },
    {
      "cell_type": "markdown",
      "metadata": {
        "id": "7XR9nm8tAyLP"
      },
      "source": [
        "#### Predefined Responses and Intent List"
      ]
    },
    {
      "cell_type": "code",
      "execution_count": null,
      "metadata": {
        "id": "k2golqSMAbfG"
      },
      "outputs": [],
      "source": [
        "responses = {\n",
        "    \"greeting\": [\"Hello {name}! How can I help you today?\", \"Hi {name}! What can I do for you?\", \"Greetings {name}! How may I assist you?\"],\n",
        "    \"help\": [\"I'm here to help! What do you need assistance with?\", \"Sure, let me know how I can assist you.\", \"Feel free to ask me any question.\"],\n",
        "    \"thanks\": [\"You're welcome, {name}! Let me know if you need anything else.\", \"Glad I could help, {name}!\", \"Anytime, {name}!\"],\n",
        "    \"complaint\": [\"I'm sorry to hear that, {name}. Can you please provide more details about the issue?\"],\n",
        "    \"feedback\": [\"Thank you for your feedback! It helps us improve.\"],\n",
        "    \"default\": [\"I'm sorry, I didn't understand that. Can you please rephrase?\", \"Could you clarify your query? I'm here to help!\"],\n",
        "    \"trivia\": [\"Did you know? Honey never spoils!\", \"Fun fact: Octopuses have three hearts.\", \"Here’s one: Bananas are berries, but strawberries aren’t!\"],\n",
        "    \"jokes\": [\"Why don’t skeletons fight each other? They don’t have the guts!\", \"What do you call fake spaghetti? An impasta!\", \"Why don’t eggs tell jokes? They’d crack each other up!\"],\n",
        "    \"reminder_set\": [\"Your reminder has been set for {time}! I'll remind you then.\"],\n",
        "    \"reminder_triggered\": [\"Hey {name}, here's your reminder: {reminder}\"],\n",
        "    \"recommendation\": {\n",
        "        \"book\": [\"I recommend 'The Alchemist' by Paulo Coelho!\", \"Try 'Atomic Habits' by James Clear.\", \"You might enjoy 'Sapiens' by Yuval Noah Harari.\"],\n",
        "        \"movie\": [\"How about watching 'Inception'?\", \"Try 'The Shawshank Redemption'—a classic!\", \"If you like animation, check out 'Spider-Man: Into the Spider-Verse'!\"],\n",
        "        \"song\": [\"Listen to 'Blinding Lights' by The Weeknd.\", \"Try 'Shape of You' by Ed Sheeran.\", \"How about 'Bohemian Rhapsody' by Queen?\"]\n",
        "}\n",
        "}"
      ]
    },
    {
      "cell_type": "markdown",
      "metadata": {
        "id": "NACBI_EKA33z"
      },
      "source": [
        "#### Intents List"
      ]
    },
    {
      "cell_type": "code",
      "execution_count": null,
      "metadata": {
        "id": "nAxnQxP7AbiI"
      },
      "outputs": [],
      "source": [
        "intents = [\"greeting\", \"help\", \"thanks\", \"complaint\", \"feedback\", \"weather\", \"trivia\", \"jokes\", \"reminder\", \"recommendation\"]"
      ]
    },
    {
      "cell_type": "markdown",
      "metadata": {
        "id": "pX3p-k8tA9ie"
      },
      "source": [
        "#### Conversation Context and Reminders"
      ]
    },
    {
      "cell_type": "code",
      "execution_count": null,
      "metadata": {
        "id": "m0yeS9LGAblB"
      },
      "outputs": [],
      "source": [
        "context = {}\n",
        "feedback_collected = []\n",
        "reminders = {}"
      ]
    },
    {
      "cell_type": "markdown",
      "metadata": {
        "id": "YekxEwhlBElA"
      },
      "source": [
        "#### Intent Detection"
      ]
    },
    {
      "cell_type": "code",
      "execution_count": null,
      "metadata": {
        "id": "tnc9aZotAbof"
      },
      "outputs": [],
      "source": [
        "def detect_intent(user_input):\n",
        "    result = intent_recognizer(user_input, intents)\n",
        "    return result[\"labels\"][0]  # Return the most likely intent"
      ]
    },
    {
      "cell_type": "markdown",
      "metadata": {
        "id": "91_c3JRiBKQy"
      },
      "source": [
        "#### Sentiment Analysis"
      ]
    },
    {
      "cell_type": "code",
      "execution_count": null,
      "metadata": {
        "id": "vwu4if4_4_eU"
      },
      "outputs": [],
      "source": [
        "def analyze_sentiment(user_input):\n",
        "    sentiment = TextBlob(user_input).sentiment.polarity\n",
        "    if sentiment > 0:\n",
        "        return \"positive\"\n",
        "    elif sentiment < 0:\n",
        "        return \"negative\"\n",
        "    return \"neutral\""
      ]
    },
    {
      "cell_type": "markdown",
      "metadata": {
        "id": "mSQCCFaZBTDi"
      },
      "source": [
        "#### Weather Retrieval"
      ]
    },
    {
      "cell_type": "code",
      "execution_count": null,
      "metadata": {
        "id": "Mun85DVz4_hu"
      },
      "outputs": [],
      "source": [
        "def get_weather(city):\n",
        "    api_key = \"yhttps://www.accuweather.com/en/in/bengaluru/204108/weather-forecast/204108\"\n",
        "    url = f\"http://api.openweathermap.org/data/2.5/weather?q={city}&appid={api_key}\"\n",
        "    response = requests.get(url).json()\n",
        "    if response.get(\"weather\"):\n",
        "        weather = response[\"weather\"][0][\"description\"]\n",
        "        temp = response[\"main\"][\"temp\"] - 273.15  # Convert from Kelvin to Celsius\n",
        "        return f\"The weather in {city} is {weather} with a temperature of {temp:.2f}°C.\"\n",
        "    return \"Sorry, I couldn't fetch the weather data. Please try again later.\""
      ]
    },
    {
      "cell_type": "markdown",
      "metadata": {
        "id": "KKHTWbspBZCz"
      },
      "source": [
        "#### Translation Function"
      ]
    },
    {
      "cell_type": "code",
      "execution_count": null,
      "metadata": {
        "id": "SycP9WA3BSLl"
      },
      "outputs": [],
      "source": [
        "def translate_message(message, target_language=\"en\"):\n",
        "    return translator.translate(message, dest=target_language).text"
      ]
    },
    {
      "cell_type": "markdown",
      "metadata": {
        "id": "T0_qgnNQBdeX"
      },
      "source": [
        "#### Reminder Functions"
      ]
    },
    {
      "cell_type": "code",
      "execution_count": null,
      "metadata": {
        "id": "3LdyBiogBSOF"
      },
      "outputs": [],
      "source": [
        "def set_reminder(user_input, session_id):\n",
        "    try:\n",
        "        time_part = user_input.split(\"in \")[1]\n",
        "        time_parts = time_part.split()\n",
        "        minutes = int(time_parts[0])\n",
        "        reminder_time = datetime.now() + timedelta(minutes=minutes)\n",
        "        reminders[session_id] = (reminder_time, \" \".join(time_parts[1:]))\n",
        "        return responses[\"reminder_set\"][0].format(time=reminder_time.strftime(\"%H:%M\"))\n",
        "    except Exception:\n",
        "        return \"I couldn't set the reminder. Please specify it in the format: 'Remind me in X minutes about Y'.\""
      ]
    },
    {
      "cell_type": "code",
      "execution_count": null,
      "metadata": {
        "id": "egE6i3zCBSQ5"
      },
      "outputs": [],
      "source": [
        "# Check reminders\n",
        "def check_reminders(session_id, name):\n",
        "    if session_id in reminders:\n",
        "        reminder_time, reminder_text = reminders[session_id]\n",
        "        if datetime.now() >= reminder_time:\n",
        "            del reminders[session_id]\n",
        "            return responses[\"reminder_triggered\"][0].format(name=name, reminder=reminder_text)\n",
        "    return None"
      ]
    },
    {
      "cell_type": "code",
      "execution_count": null,
      "metadata": {
        "id": "Wnbr21aqBSTf"
      },
      "outputs": [],
      "source": [
        "# Collect feedback\n",
        "def collect_feedback():\n",
        "    feedback = input(\"Chatbot: Before you go, could you provide feedback on your experience? \")\n",
        "    feedback_collected.append(feedback)\n",
        "    print(\"Chatbot: Thank you for your feedback!\")"
      ]
    },
    {
      "cell_type": "code",
      "execution_count": null,
      "metadata": {
        "id": "2lnIC4rQBSWG"
      },
      "outputs": [],
      "source": [
        "# Enhanced chatbot response\n",
        "def chatbot_response(user_input, session_id=\"default\", target_language=\"en\"):\n",
        "    if session_id not in context:\n",
        "        name = input(\"Chatbot: What's your name? \")\n",
        "        context[session_id] = {\"name\": name, \"last_intent\": None}\n",
        "        print(f\"Chatbot: Nice to meet you, {name}!\")\n",
        "\n",
        "    name = context[session_id][\"name\"]\n",
        "    translated_input = translate_message(user_input, \"en\")\n",
        "    intent = detect_intent(translated_input)\n",
        "    sentiment = analyze_sentiment(translated_input)\n",
        "\n",
        "    # Check reminders\n",
        "    reminder_message = check_reminders(session_id, name)\n",
        "    if reminder_message:\n",
        "        return reminder_message\n",
        "\n",
        "    logging.info(f\"User Input: {user_input} | Detected Intent: {intent} | Sentiment: {sentiment}\")\n",
        "\n",
        "    # Intent-specific responses\n",
        "    if intent == \"greeting\":\n",
        "        response = random.choice(responses[\"greeting\"]).format(name=name)\n",
        "    elif intent == \"help\":\n",
        "        response = random.choice(responses[\"help\"])\n",
        "    elif intent == \"thanks\":\n",
        "        response = random.choice(responses[\"thanks\"]).format(name=name)\n",
        "    elif intent == \"complaint\":\n",
        "        response = random.choice(responses[\"complaint\"]).format(name=name)\n",
        "    elif intent == \"feedback\":\n",
        "        response = random.choice(responses[\"feedback\"])\n",
        "    elif intent == \"weather\":\n",
        "        city = translated_input.split()[-1]\n",
        "        response = get_weather(city)\n",
        "    elif intent == \"trivia\":\n",
        "        response = random.choice(responses[\"trivia\"])\n",
        "    elif intent == \"jokes\":\n",
        "        response = random.choice(responses[\"jokes\"])\n",
        "    elif intent == \"reminder\":\n",
        "        response = set_reminder(user_input, session_id)\n",
        "    elif intent == \"recommendation\":\n",
        "        recommendation_type = translated_input.split()[-1]\n",
        "        response = random.choice(responses[\"recommendation\"].get(recommendation_type, [\"I'm not sure what to recommend.\"]))\n",
        "\n",
        "    else:\n",
        "        response = random.choice(responses[\"default\"])\n",
        "\n",
        "    return translate_message(response, target_language)"
      ]
    },
    {
      "cell_type": "code",
      "execution_count": null,
      "metadata": {
        "id": "PG5a3YR7BSYt"
      },
      "outputs": [],
      "source": [
        "# Chat loop\n",
        "def chat():\n",
        "    print(\"Chatbot: Hello! I am your support assistant. Type 'exit' to end the chat.\")\n",
        "    session_id = \"default\"\n",
        "    while True:\n",
        "        user_input = input(\"You: \")\n",
        "        if user_input.lower() == \"exit\":\n",
        "            collect_feedback()\n",
        "            print(\"Chatbot: Goodbye! Have a great day!\")\n",
        "            break\n",
        "        response = chatbot_response(user_input, session_id)\n",
        "        print(f\"Chatbot: {response}\")"
      ]
    },
    {
      "cell_type": "code",
      "execution_count": null,
      "metadata": {
        "colab": {
          "base_uri": "https://localhost:8080/"
        },
        "id": "1HWwFMm7BSbT",
        "outputId": "c4ada63f-fbed-4430-9b32-2d8ddf9731b5"
      },
      "outputs": [
        {
          "name": "stdout",
          "output_type": "stream",
          "text": [
            "Chatbot: Hello! I am your support assistant. Type 'exit' to end the chat.\n",
            "Chatbot: Nice to meet you, Priyanka!\n",
            "Chatbot: Hello Priyanka! How can I help you today?\n",
            "You: exit\n"
          ]
        }
      ],
      "source": [
        "# Run chatbot\n",
        "if __name__ == \"__main__\":\n",
        "    chat()"
      ]
    }
  ],
  "metadata": {
    "colab": {
      "provenance": []
    },
    "kernelspec": {
      "display_name": "Python 3",
      "name": "python3"
    },
    "language_info": {
      "name": "python"
    }
  },
  "nbformat": 4,
  "nbformat_minor": 0
}